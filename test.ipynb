{
 "cells": [
  {
   "metadata": {},
   "cell_type": "code",
   "source": [
    "import os\n",
    "from openai import OpenAI\n",
    "from dotenv import load_dotenv\n",
    "import numpy as np\n",
    "from numpy.linalg import norm\n",
    "from git import Repo\n",
    "import json"
   ],
   "id": "d2f4df6e163480f3",
   "outputs": [],
   "execution_count": null
  },
  {
   "metadata": {
    "collapsed": true
   },
   "cell_type": "code",
   "source": [
    "load_dotenv()\n",
    "\n",
    "client = OpenAI(\n",
    "    # This is the default and can be omitted\n",
    "    api_key=os.getenv(\"OPENAI_API_KEY\") #os.environ.get(\"OPENAI_API_KEY\"),\n",
    ")\n",
    "\n",
    "response = client.responses.create(\n",
    "    model=\"gpt-4o\",\n",
    "    instructions=\"You are a coding assistant that talks like a pirate.\",\n",
    "    input=\"How do I check if a Python object is an instance of a class?\",\n",
    ")\n",
    "\n",
    "print(response.output_text)"
   ],
   "id": "fc4f91f7c8d47f7e",
   "outputs": [],
   "execution_count": null
  },
  {
   "metadata": {},
   "cell_type": "code",
   "source": [
    "response = client.embeddings.create(\n",
    "    input=\"What is the capital of France?\",\n",
    "    model=\"text-embedding-3-large\"\n",
    ")\n",
    "\n",
    "embedding = response.data[0].embedding\n",
    "print(embedding)"
   ],
   "id": "fc861cf1b228b6b9",
   "outputs": [],
   "execution_count": null
  },
  {
   "metadata": {},
   "cell_type": "code",
   "source": [
    "def extract_diff_lines(diff_text):\n",
    "    diff_lines = []\n",
    "    diff_dict = {}\n",
    "    for line in diff_text.splitlines():\n",
    "        diff_dict = {'Added': [],\n",
    "                     'Removed': [],}\n",
    "        if line.startswith('+') and not line.startswith('+++'):\n",
    "            diff_dict['Added'].append(f\"The following lines have been added: {line[1:]}\")\n",
    "        elif line.startswith('-') and not line.startswith('---'):\n",
    "            diff_dict['Removed'].append(f\"The following lines have been removed: {line[1:]}\")\n",
    "    return diff_lines"
   ],
   "id": "c4f119589d4b377f",
   "outputs": [],
   "execution_count": null
  },
  {
   "metadata": {},
   "cell_type": "code",
   "source": [
    "repo = Repo('../commit-messages-guide')  # or path to your repo\n",
    "commits_data = []\n",
    "\n",
    "for commit in repo.iter_commits():\n",
    "    commit_info = {\n",
    "        \"commit\": commit.hexsha,\n",
    "        \"author\": str(commit.author),\n",
    "        \"date\": str(commit.committed_datetime),\n",
    "        \"files_changed\": []\n",
    "    }\n",
    "\n",
    "    for diff in commit.diff(None, create_patch=True):\n",
    "        if diff.a_path and diff.diff:\n",
    "            diff_raw = diff.diff.decode(errors=\"ignore\", encoding=\"utf-8\")\n",
    "\n",
    "            commit_info[\"files_changed\"].append({\n",
    "                \"file\": diff.a_path,\n",
    "                \"diff\": diff_raw,\n",
    "                \"diff_processed\": extract_diff_lines(diff_raw)\n",
    "            })\n",
    "\n",
    "    commits_data.append(commit_info)\n",
    "\n",
    "# Save or print as JSON\n",
    "with open('sample_git_log_clean.json', 'w') as f:\n",
    "    json.dump(commits_data, f, indent=2)\n"
   ],
   "id": "df7231287702d392",
   "outputs": [],
   "execution_count": null
  },
  {
   "metadata": {},
   "cell_type": "code",
   "source": [
    "{\n",
    " 'Added': [line.removeprefix('Added: ') for line in extract_diff_lines(diff_raw) if line.startswith('Added')],\n",
    " 'Removed': [line.removeprefix('Removed: ')  for line in extract_diff_lines(diff_raw) if line.startswith('Removed')]\n",
    " }\n"
   ],
   "id": "113c648b8d644a79",
   "outputs": [],
   "execution_count": null
  },
  {
   "metadata": {},
   "cell_type": "code",
   "source": "commits_data",
   "id": "b601626d0257391c",
   "outputs": [],
   "execution_count": null
  },
  {
   "metadata": {},
   "cell_type": "code",
   "source": [
    "with open(\"sample_git_log.json\", \"r\", encoding=\"utf-8\") as f:\n",
    "    data = json.load(f)\n",
    "\n",
    "data[10]"
   ],
   "id": "59176efd6abfc450",
   "outputs": [],
   "execution_count": null
  },
  {
   "metadata": {},
   "cell_type": "code",
   "source": "data[10]['files_changed'][0]['diff_processed']",
   "id": "fa19d3a7242f0818",
   "outputs": [],
   "execution_count": null
  },
  {
   "metadata": {},
   "cell_type": "code",
   "source": [
    "response = client.embeddings.create(\n",
    "    input=data[10]['files_changed'][0]['diff_processed'],\n",
    "    model=\"text-embedding-3-large\"\n",
    ")\n",
    "\n",
    "embedding = response.data[0].embedding\n",
    "print(embedding)"
   ],
   "id": "415d5f87bca6963",
   "outputs": [],
   "execution_count": null
  },
  {
   "metadata": {},
   "cell_type": "code",
   "source": [
    "for i, commit in enumerate(data[:10]):\n",
    "    files_changed = commit.get(\"files_changed\")\n",
    "    for file in files_changed:\n",
    "        diff = file['diff_processed']\n",
    "        filename = file['file']"
   ],
   "id": "2f524ef85e8bd640",
   "outputs": [],
   "execution_count": null
  },
  {
   "metadata": {},
   "cell_type": "code",
   "source": [
    "import time\n",
    "for i, commit in enumerate(data):\n",
    "    try:\n",
    "        files_changed = commit.get(\"files_changed\")\n",
    "        for file in files_changed:\n",
    "            diff = file['diff_processed']\n",
    "            filename = file['file']\n",
    "            if not diff:\n",
    "                commit[\"embedding\"] = None\n",
    "        if not files_changed:\n",
    "            commit[\"embedding\"] = None  # Skip if no diff\n",
    "\n",
    "\n",
    "        # Get embedding\n",
    "        response = client.embeddings.create(\n",
    "            input=diff,\n",
    "            model=\"text-embedding-3-large\"\n",
    "        )\n",
    "\n",
    "        embedding = response.data[0].embedding\n",
    "        commit[\"embedding\"] = embedding\n",
    "\n",
    "        if i % 100 == 0:\n",
    "            print(f\"Processed {i} commits\")\n",
    "\n",
    "        time.sleep(0.1)  # Avoid rate limits\n",
    "\n",
    "    except Exception as e:\n",
    "        print(f\"Error at index {i}: {e}\")\n",
    "        commit[\"embedding\"] = None\n",
    "\n",
    "with open(\"commits_with_embeddings.json\", \"w\") as f:\n",
    "    json.dump(data, f, indent=2)"
   ],
   "id": "f28ca0984941b14b",
   "outputs": [],
   "execution_count": null
  },
  {
   "metadata": {},
   "cell_type": "code",
   "source": [
    "query = \"When did someone add a PDF?\"\n",
    "response = client.embeddings.create(\n",
    "    input=query,\n",
    "    model=\"text-embedding-3-large\"\n",
    ")\n",
    "query_embedding = response.data[0].embedding"
   ],
   "id": "7e8c0973fce02a59",
   "outputs": [],
   "execution_count": null
  },
  {
   "metadata": {},
   "cell_type": "code",
   "source": "data[1].keys()",
   "id": "59bb0d0e62345e42",
   "outputs": [],
   "execution_count": null
  },
  {
   "metadata": {},
   "cell_type": "code",
   "source": [
    "data_with_embeddings = [d for d in data if 'embedding' in d]\n",
    "\n",
    "with open(\"commits_with_embeddings_filtered_for_difference.json\", \"w\") as f:\n",
    "    json.dump(data_with_embeddings, f, indent=2)"
   ],
   "id": "3c1cf257efc77b5f",
   "outputs": [],
   "execution_count": null
  },
  {
   "metadata": {},
   "cell_type": "code",
   "source": [
    "def cosine_sim(a, b):\n",
    "    return np.dot(a, b) / (norm(a) * norm(b))\n",
    "\n",
    "top_matches = sorted(\n",
    "    data_with_embeddings,\n",
    "    key=lambda x: cosine_sim(query_embedding, x['embedding']),\n",
    "    reverse=True\n",
    ")[:10]"
   ],
   "id": "4de0208aa1face20",
   "outputs": [],
   "execution_count": null
  },
  {
   "metadata": {},
   "cell_type": "code",
   "source": [
    "prompt = f\"\"\"\n",
    "You are analyzing commit history.\n",
    "\n",
    "Given the following top 5 commit diffs, answer the question:\n",
    "\"{query}\"\n",
    "\n",
    "Commits:\n",
    "1. {top_matches[0]['files_changed'][0]['diff_processed']}\n",
    "2. {top_matches[1]['files_changed'][0]['diff_processed']}\n",
    "3. {top_matches[2]['files_changed'][0]['diff_processed']}\n",
    "4. {top_matches[3]['files_changed'][0]['diff_processed']}\n",
    "...\n",
    "\n",
    "Only return a helpful answer — do not list all commits unless necessary.\n",
    "\"\"\"\n",
    "\n",
    "response = client.chat.completions.create(\n",
    "    model=\"gpt-4.1-mini\",\n",
    "    messages=[{\"role\": \"user\", \"content\": prompt}]\n",
    ")\n",
    "\n",
    "print(response.choices[0].message.content)"
   ],
   "id": "49e5890b90880515",
   "outputs": [],
   "execution_count": null
  },
  {
   "metadata": {},
   "cell_type": "code",
   "source": [
    "sample_json = [{'commit_1': {'A': \"a\",\n",
    "                'B': \"b\",\n",
    "                'C': ['c', 'cc', 'ccc']},\n",
    "               'commit_2': {'A': \"a\",\n",
    "                            'B': \"bb\",\n",
    "                'C': ['c', 'cc', 'ccc']}}]\n",
    "\n",
    "for i, commit in enumerate(sample_json):\n",
    "    commit['embedding'] = i\n",
    "sample_json"
   ],
   "id": "9d674f1f0106ec5d",
   "outputs": [],
   "execution_count": null
  },
  {
   "metadata": {},
   "cell_type": "code",
   "source": "",
   "id": "c84467f6c8c6b553",
   "outputs": [],
   "execution_count": null
  }
 ],
 "metadata": {
  "kernelspec": {
   "display_name": "Python 3",
   "language": "python",
   "name": "python3"
  },
  "language_info": {
   "codemirror_mode": {
    "name": "ipython",
    "version": 2
   },
   "file_extension": ".py",
   "mimetype": "text/x-python",
   "name": "python",
   "nbconvert_exporter": "python",
   "pygments_lexer": "ipython2",
   "version": "2.7.6"
  }
 },
 "nbformat": 4,
 "nbformat_minor": 5
}
